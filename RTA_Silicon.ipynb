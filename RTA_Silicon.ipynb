{
 "cells": [
  {
   "cell_type": "code",
   "execution_count": 1,
   "metadata": {},
   "outputs": [],
   "source": [
    "import numpy as np\n",
    "import matplotlib.pyplot as pp\n",
    "import seaborn\n",
    "import pandas"
   ]
  },
  {
   "cell_type": "code",
   "execution_count": 2,
   "metadata": {},
   "outputs": [],
   "source": [
    "%matplotlib inline"
   ]
  },
  {
   "cell_type": "code",
   "execution_count": 3,
   "metadata": {},
   "outputs": [],
   "source": [
    "lam = np.arange(400e-9,2000e-9,1e-9) # Wavelength range in m"
   ]
  },
  {
   "cell_type": "code",
   "execution_count": 4,
   "metadata": {},
   "outputs": [
    {
     "data": {
      "text/plain": [
       "array([4.000e-07, 4.010e-07, 4.020e-07, ..., 1.997e-06, 1.998e-06,\n",
       "       1.999e-06])"
      ]
     },
     "execution_count": 4,
     "metadata": {},
     "output_type": "execute_result"
    }
   ],
   "source": [
    "lam"
   ]
  },
  {
   "cell_type": "code",
   "execution_count": 5,
   "metadata": {},
   "outputs": [
    {
     "data": {
      "text/plain": [
       "array([ 400.,  401.,  402., ..., 1997., 1998., 1999.])"
      ]
     },
     "execution_count": 5,
     "metadata": {},
     "output_type": "execute_result"
    }
   ],
   "source": [
    "nlam = lam * 1e9 # Wavelength range in nm\n",
    "nlam"
   ]
  },
  {
   "cell_type": "code",
   "execution_count": 6,
   "metadata": {},
   "outputs": [],
   "source": [
    "d = 85e-9 # Film thickness"
   ]
  },
  {
   "cell_type": "code",
   "execution_count": 7,
   "metadata": {},
   "outputs": [],
   "source": [
    "kl = 2*np.pi/lam # wavenumber in vacuum"
   ]
  },
  {
   "cell_type": "code",
   "execution_count": 8,
   "metadata": {},
   "outputs": [
    {
     "data": {
      "text/plain": [
       "array([15707963.26794897, 15668791.28972465, 15629814.19696414, ...,\n",
       "        3146312.1217724 ,  3144737.39098072,  3143164.23570759])"
      ]
     },
     "execution_count": 8,
     "metadata": {},
     "output_type": "execute_result"
    }
   ],
   "source": [
    "kl"
   ]
  },
  {
   "cell_type": "code",
   "execution_count": 9,
   "metadata": {},
   "outputs": [],
   "source": [
    "nr = 1 # Refractive index of the substrate, Suspended membrane"
   ]
  },
  {
   "cell_type": "code",
   "execution_count": 10,
   "metadata": {},
   "outputs": [
    {
     "data": {
      "text/plain": [
       "array([15707963.26794897, 15668791.28972465, 15629814.19696414, ...,\n",
       "        3146312.1217724 ,  3144737.39098072,  3143164.23570759])"
      ]
     },
     "execution_count": 10,
     "metadata": {},
     "output_type": "execute_result"
    }
   ],
   "source": [
    "kr = 2*np.pi*nr/lam # wavenumber of the em field in the substrate\n",
    "kr"
   ]
  },
  {
   "cell_type": "code",
   "execution_count": 11,
   "metadata": {},
   "outputs": [],
   "source": [
    "nload = pandas.read_csv('cSi_n_m.txt',delimiter = '\\t') #Load n for the film\n",
    "lamb = nload['Wavelength'] # wavelength\n",
    "nfilm = nload['n'] # n for the film\n",
    "\n",
    "kload = pandas.read_csv('cSi_k_m.txt',delimiter = '\\t') #Load k for the film\n",
    "kfilm = kload['k'] # k for the film\n",
    "\n",
    "nint = np.interp(lam,lamb,nfilm)\n",
    "kint = np.interp(lam,lamb,kfilm)\n",
    "N = nint + 1j * kint # complex refractive index of the film\n",
    "#pp.plot(lam,nint)\n",
    "#pp.plot(lam,kint)\n",
    "#pp.axis(400e-9, 1600e-9, 2.5, 3.8)"
   ]
  },
  {
   "cell_type": "code",
   "execution_count": 12,
   "metadata": {},
   "outputs": [
    {
     "data": {
      "text/plain": [
       "array([88325877.45567702+5.12079603e+06j,\n",
       "       87663753.50775146+4.97484123e+06j,\n",
       "       87004923.70882058+4.82961259e+06j, ...,\n",
       "       10971190.36862035+3.42948021e-07j,\n",
       "       10965699.28234977+3.42776376e-07j,\n",
       "       10960213.68991237+3.42604902e-07j])"
      ]
     },
     "execution_count": 12,
     "metadata": {},
     "output_type": "execute_result"
    }
   ],
   "source": [
    "k = 2*N*np.pi/lam # Wavenumber inside the thin film\n",
    "k"
   ]
  },
  {
   "cell_type": "code",
   "execution_count": 13,
   "metadata": {},
   "outputs": [],
   "source": [
    "for lam in np.nditer(lam):  # calculation of transmission and reflection coefficients\n",
    "        \n",
    "    M0 = np.cos(k*d)\n",
    "    M1 = 1/k*np.sin(k*d)\n",
    "    M2 = -k*np.sin(k*d)\n",
    "    \n",
    "    t2 = 2*1j*kl*np.exp(-1j*kr*d)*(M0*M0-M1*M2)/(-M2+kl*kr*M1+1j*(kr*M0+kl*M0))\n",
    "    r2 = (M2+kl*kr*M1+1j*((kl-kr)*M0))/(-M2+kl*kr*M1+1j*((kl+kr)*M0))"
   ]
  },
  {
   "cell_type": "code",
   "execution_count": 14,
   "metadata": {},
   "outputs": [
    {
     "data": {
      "text/plain": [
       "Text(0,0.5,'RTA')"
      ]
     },
     "execution_count": 14,
     "metadata": {},
     "output_type": "execute_result"
    },
    {
     "data": {
      "image/png": "[encoded data removed]",
      "text/plain": [
       "<Figure size 432x288 with 1 Axes>"
      ]
     },
     "metadata": {},
     "output_type": "display_data"
    }
   ],
   "source": [
    "T = np.square(np.absolute(t2))*100\n",
    "R = np.square(np.absolute(r2))*100\n",
    "A = 100 - (T + R)\n",
    "pp.plot(nlam,T)  # plot transmission\n",
    "pp.plot(nlam,R) # plot reflection\n",
    "pp.plot(nlam,A) # plot absorption\n",
    "pp.axis([400,2000,0,100])\n",
    "pp.legend(['T','R','A'])\n",
    "pp.xlabel('Wavelength, nm')\n",
    "pp.ylabel('RTA')"
   ]
  },
  {
   "cell_type": "code",
   "execution_count": 15,
   "metadata": {},
   "outputs": [
    {
     "data": {
      "text/html": [
       "<div>\n",
       "<style scoped>\n",
       "    .dataframe tbody tr th:only-of-type {\n",
       "        vertical-align: middle;\n",
       "    }\n",
       "\n",
       "    .dataframe tbody tr th {\n",
       "        vertical-align: top;\n",
       "    }\n",
       "\n",
       "    .dataframe thead th {\n",
       "        text-align: right;\n",
       "    }\n",
       "</style>\n",
       "<table border=\"1\" class=\"dataframe\">\n",
       "  <thead>\n",
       "    <tr style=\"text-align: right;\">\n",
       "      <th></th>\n",
       "      <th>Wavelength</th>\n",
       "      <th>n</th>\n",
       "    </tr>\n",
       "  </thead>\n",
       "  <tbody>\n",
       "    <tr>\n",
       "      <th>0</th>\n",
       "      <td>2.500000e-07</td>\n",
       "      <td>1.637</td>\n",
       "    </tr>\n",
       "    <tr>\n",
       "      <th>1</th>\n",
       "      <td>2.600000e-07</td>\n",
       "      <td>1.737</td>\n",
       "    </tr>\n",
       "    <tr>\n",
       "      <th>2</th>\n",
       "      <td>2.700000e-07</td>\n",
       "      <td>2.030</td>\n",
       "    </tr>\n",
       "    <tr>\n",
       "      <th>3</th>\n",
       "      <td>2.800000e-07</td>\n",
       "      <td>2.840</td>\n",
       "    </tr>\n",
       "    <tr>\n",
       "      <th>4</th>\n",
       "      <td>2.900000e-07</td>\n",
       "      <td>4.185</td>\n",
       "    </tr>\n",
       "  </tbody>\n",
       "</table>\n",
       "</div>"
      ],
      "text/plain": [
       "     Wavelength      n\n",
       "0  2.500000e-07  1.637\n",
       "1  2.600000e-07  1.737\n",
       "2  2.700000e-07  2.030\n",
       "3  2.800000e-07  2.840\n",
       "4  2.900000e-07  4.185"
      ]
     },
     "execution_count": 15,
     "metadata": {},
     "output_type": "execute_result"
    }
   ],
   "source": [
    "nload.head()"
   ]
  },
  {
   "cell_type": "code",
   "execution_count": 16,
   "metadata": {},
   "outputs": [],
   "source": [
    "np.savetxt('Transmission_85nm_Si.txt', T)\n",
    "np.savetxt('Reflection_85nm_Si.txt', R)\n",
    "np.savetxt('Wavelength.txt', nlam)"
   ]
  }
 ],
 "metadata": {
  "kernelspec": {
   "display_name": "Python 3",
   "language": "python",
   "name": "python3"
  },
  "language_info": {
   "codemirror_mode": {
    "name": "ipython",
    "version": 3
   },
   "file_extension": ".py",
   "mimetype": "text/x-python",
   "name": "python",
   "nbconvert_exporter": "python",
   "pygments_lexer": "ipython3",
   "version": "3.6.5"
  }
 },
 "nbformat": 4,
 "nbformat_minor": 2
}
